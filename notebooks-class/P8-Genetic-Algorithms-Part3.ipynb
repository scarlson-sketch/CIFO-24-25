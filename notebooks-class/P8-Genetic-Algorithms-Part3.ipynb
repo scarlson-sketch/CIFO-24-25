{
 "cells": [
  {
   "cell_type": "code",
   "execution_count": 1,
   "metadata": {},
   "outputs": [],
   "source": [
    "import sys\n",
    "sys.path.append('..')"
   ]
  },
  {
   "cell_type": "code",
   "execution_count": 2,
   "metadata": {},
   "outputs": [
    {
     "ename": "ModuleNotFoundError",
     "evalue": "No module named 'library.problems'",
     "output_type": "error",
     "traceback": [
      "\u001b[1;31m---------------------------------------------------------------------------\u001b[0m",
      "\u001b[1;31mModuleNotFoundError\u001b[0m                       Traceback (most recent call last)",
      "Cell \u001b[1;32mIn[2], line 3\u001b[0m\n\u001b[0;32m      1\u001b[0m \u001b[38;5;28;01mfrom\u001b[39;00m \u001b[38;5;21;01mcopy\u001b[39;00m \u001b[38;5;28;01mimport\u001b[39;00m deepcopy\n\u001b[0;32m      2\u001b[0m \u001b[38;5;28;01mimport\u001b[39;00m \u001b[38;5;21;01mrandom\u001b[39;00m\n\u001b[1;32m----> 3\u001b[0m \u001b[38;5;28;01mfrom\u001b[39;00m \u001b[38;5;21;01mlibrary\u001b[39;00m\u001b[38;5;21;01m.\u001b[39;00m\u001b[38;5;21;01mproblems\u001b[39;00m\u001b[38;5;21;01m.\u001b[39;00m\u001b[38;5;21;01mtsp\u001b[39;00m \u001b[38;5;28;01mimport\u001b[39;00m TSPSolution\n\u001b[0;32m      4\u001b[0m \u001b[38;5;28;01mfrom\u001b[39;00m \u001b[38;5;21;01mlibrary\u001b[39;00m\u001b[38;5;21;01m.\u001b[39;00m\u001b[38;5;21;01mproblems\u001b[39;00m\u001b[38;5;21;01m.\u001b[39;00m\u001b[38;5;21;01mdata\u001b[39;00m\u001b[38;5;21;01m.\u001b[39;00m\u001b[38;5;21;01mtsp_data\u001b[39;00m \u001b[38;5;28;01mimport\u001b[39;00m distance_matrix\n\u001b[0;32m      5\u001b[0m \u001b[38;5;28;01mfrom\u001b[39;00m \u001b[38;5;21;01mlibrary\u001b[39;00m\u001b[38;5;21;01m.\u001b[39;00m\u001b[38;5;21;01malgorithms\u001b[39;00m\u001b[38;5;21;01m.\u001b[39;00m\u001b[38;5;21;01mgenetic_algorithms\u001b[39;00m\u001b[38;5;21;01m.\u001b[39;00m\u001b[38;5;21;01malgorithm\u001b[39;00m \u001b[38;5;28;01mimport\u001b[39;00m genetic_algorithm\n",
      "\u001b[1;31mModuleNotFoundError\u001b[0m: No module named 'library.problems'"
     ]
    }
   ],
   "source": [
    "from copy import deepcopy\n",
    "import random\n",
    "from library.problems.tsp import TSPSolution\n",
    "from library.problems.data.tsp_data import distance_matrix\n",
    "from library.algorithms.genetic_algorithms.algorithm import genetic_algorithm\n",
    "from library.algorithms.genetic_algorithms.mutation import swap_mutation\n",
    "from library.algorithms.genetic_algorithms.selection import fitness_proportionate_selection"
   ]
  },
  {
   "cell_type": "markdown",
   "metadata": {},
   "source": [
    "## Specialized Genetic Operators"
   ]
  },
  {
   "cell_type": "markdown",
   "metadata": {},
   "source": [
    "In the previous notebook, we explored some traditional genetic operators: **standard crossover, binary mutation, and swap mutation**.\n",
    "\n",
    "However, these traditional operators generate invalid solutions when applied to combinatorial problems such as the Traveling Salesman Problem (TSP), job scheduling, or vehicle routing, where solutions are represented as **permutations**.\n",
    "\n",
    "In this notebook, we’ll explore **specialized genetic operators**, specifically designed to handle permutations without producing invalid solutions. We’ll explore one crossover and one mutation methods that respects permutation constraints."
   ]
  },
  {
   "cell_type": "markdown",
   "metadata": {},
   "source": [
    "### Why Standard Crossover/Mutation Fail for Permutation Problems\n",
    "\n",
    "In permutation-based problems (e.g., [1, 2, 3, 4, 5]), each gene must appear exactly once.\n",
    "Standard genetic operators like one-point crossover or value-flip mutation can break this rule, resulting in invalid offspring with duplicates or missing values.\n",
    "\n",
    "\n",
    "#### Standard Mutation - Value Flip\n",
    "\n",
    "This mutation is inspired by the standard binary mutation: each gene is randomly replaced with another value with some probability.\n",
    "\n",
    "Individual [1, 2, 3, 4, 5]\n",
    "\n",
    "Mutated individual (hypothetical): [1, 2, 4, 1, 5] ❌ (Duplicate '1')\n",
    "\n",
    "#### Standard Crossover\n",
    "\n",
    "Parent 1: [1, 2 | 3, 4, 5]\n",
    "\n",
    "Parent 2: [3, 4 | 5, 1, 2]\n",
    "\n",
    "\n",
    "Offspring 1 (invalid): [1, 2, 5, 1, 2] ❌ (Duplicates '1' and '2')\n",
    "\n",
    "Offspring 2 (invalid): [3, 4, 3, 4, 5] ❌ (Duplicates '3' and '4')"
   ]
  },
  {
   "cell_type": "markdown",
   "metadata": {},
   "source": [
    "### Cycle Crossover\n",
    "\n",
    "Cycle Crossover keeps items in their original positions across parents by identifying cycles of indices where elements should remain fixed.\n",
    "\n",
    "**Pseudo-code:**\n",
    "\n",
    "1. Choose random index in Parent 1 and copy the element to first child.\n",
    "3. Copy element in same index in Parent 2 to second child.\n",
    "4. Find this element in Parent 1 and copy it to first child, and repeat the process.\n",
    "5. Once the cycle completes (we end up back on the initial index), the remaining positions are filled from the other parent.\n",
    "\n",
    "![Cycle Crossover](images/cycle-xo.png)\n"
   ]
  },
  {
   "cell_type": "code",
   "execution_count": null,
   "metadata": {},
   "outputs": [],
   "source": [
    "def cycle_crossover(parent1_repr: str | list, parent2_repr: str | list):\n",
    "    random_initial_idx = random.randint(0, len(parent1_repr) - 1)\n",
    "\n",
    "    cycle_idxs = [random_initial_idx]\n",
    "    current_cycle_idx = random_initial_idx\n",
    "\n",
    "    while True:\n",
    "        value_parent2 = parent2_repr[current_cycle_idx]\n",
    "        next_cycle_idx = parent1_repr.index(value_parent2)\n",
    "\n",
    "        if next_cycle_idx == random_initial_idx:\n",
    "            break\n",
    "    \n",
    "        cycle_idxs.append(next_cycle_idx)\n",
    "        current_cycle_idx = next_cycle_idx\n",
    "\n",
    "    offspring1_repr = []\n",
    "    offspring2_repr = []\n",
    "\n",
    "    for idx in range(len(parent1_repr)):\n",
    "        if idx in cycle_idxs:\n",
    "            offspring1_repr.append(parent1_repr[idx])\n",
    "            offspring2_repr.append(parent2_repr[idx])\n",
    "        else:\n",
    "            offspring1_repr.append(None)\n",
    "            offspring2_repr.append(None)\n",
    "\n",
    "    if isinstance(parent1_repr, str) and isinstance(parent2_repr, str):\n",
    "        offspring1_repr = ''.join(offspring1_repr)\n",
    "        offspring2_repr = ''.join(offspring2_repr)\n",
    "\n",
    "    return offspring1_repr, offspring2_repr\n",
    "\n",
    "    \n"
   ]
  },
  {
   "cell_type": "markdown",
   "metadata": {},
   "source": [
    "Let's test it."
   ]
  },
  {
   "cell_type": "code",
   "execution_count": null,
   "metadata": {},
   "outputs": [],
   "source": [
    "parent1 = [1, 2, 3, 4, 5, 6, 7]\n",
    "parent2 = [3, 4, 2, 1, 7, 5, 6]\n",
    "\n",
    "print(\"Parent 1:\", parent1)\n",
    "print(\"Parent 2:\", parent2)\n",
    "\n",
    "offspring1_repr, offspring2_repr = cycle_crossover(parent1_repr=parent1, parent2_repr=parent2)\n",
    "\n",
    "print(\"Offspring 1:\", offspring1_repr)\n",
    "print(\"Offspring 2:\", offspring2_repr)"
   ]
  },
  {
   "cell_type": "markdown",
   "metadata": {},
   "source": [
    "### Inversion Mutation\n",
    "\n",
    "Inversion mutation works by selecting two random indices and reversing the subsequence between them, with a certain probability.\n",
    "\n",
    "![Inversion Mutation](images/inversion-mutation.png)"
   ]
  },
  {
   "cell_type": "code",
   "execution_count": null,
   "metadata": {},
   "outputs": [
    {
     "ename": "SyntaxError",
     "evalue": "invalid syntax (2460012911.py, line 20)",
     "output_type": "error",
     "traceback": [
      "\u001b[1;36m  Cell \u001b[1;32mIn[3], line 20\u001b[1;36m\u001b[0m\n\u001b[1;33m    else:\u001b[0m\n\u001b[1;37m    ^\u001b[0m\n\u001b[1;31mSyntaxError\u001b[0m\u001b[1;31m:\u001b[0m invalid syntax\n"
     ]
    }
   ],
   "source": [
    "def inversion_mutation(representation: str | list, mut_prob):\n",
    "    first_idx.random.randint(0, len(representation) - 1)\n",
    "    \n",
    "    second_idx = first_index\n",
    "    while abs(second_idx - first_idx) < 3:\n",
    "        second_idx = random.randint(0, len(representation) - 1)\n",
    "    \n",
    "    #Make sure that first_idx is less than second_idx\n",
    "    if first_idx > second_idx:\n",
    "        first_idx, second_idx = second_idx, first_idx\n",
    "\n",
    "    reversed_subsequence = list(reversed(representation[first_idx:second_idx]))\n",
    "\n",
    "    if isinstance(representation, str):\n",
    "        reversed_subsequence = ''.join(reversed_subsequence)\n",
    "\n",
    "    new_repr = representation[:first_idx] + reversed_subsequence + representation[second_idx]\n",
    "\n",
    "    return new_repr\n",
    "\n",
    "else:\n",
    "    return deepcopy(representation)  \n",
    "\n",
    "    \n",
    "\n",
    "    \n",
    "\n",
    "    \n",
    "    pass"
   ]
  },
  {
   "cell_type": "markdown",
   "metadata": {},
   "source": [
    "Let's test it."
   ]
  },
  {
   "cell_type": "code",
   "execution_count": null,
   "metadata": {},
   "outputs": [],
   "source": [
    "representation = [1, 2, 3, 4, 5, 6, 7]\n",
    "\n",
    "inversion_mutation(representation, mut_prob=1)"
   ]
  },
  {
   "cell_type": "markdown",
   "metadata": {},
   "source": [
    "## Solving TSP with Genetic Algorithms\n",
    "\n",
    "Just like we did in the previous notebook for the Knapsack Problem, we’ll now solve TSP using genetic algorithms.\n",
    "\n",
    "To structure our solution, we’ll define a `TSPGASolution` class where we’ll define in the crossover and mutation methods needed to run the `genetic_algorithm` function.\n",
    "\n",
    "To keep the class flexible and reusable, we’ll pass the `mutation_function` and `crossover_function` as callable arguments when creating an instance of `TSPGASolution`.\n",
    "\n",
    "### A small but important side note\n",
    "\n",
    "TSP solutions are represented as permutations of city indices, where the path must start and end at the same city (i.e., the starting index is fixed at both ends).\n",
    "\n",
    "When applying permutation-based operators like cycle crossover or inversion mutation, we need to preserve this constraint. That means we should only apply genetic operators to the middle portion of the route: excluding the first and last cities, which must remain the same.\n",
    "\n",
    "So in practice, our crossover and mutation functions will only operate on the inner part of the individual, keeping the boundaries intact."
   ]
  },
  {
   "cell_type": "code",
   "execution_count": null,
   "metadata": {},
   "outputs": [],
   "source": [
    "class TSPGASolution(TSPSolution):\n",
    "    def __init__(\n",
    "        self,\n",
    "        mutation_function,\n",
    "        crossover_function,\n",
    "        distance_matrix,\n",
    "        starting_idx,\n",
    "        repr = None\n",
    "            \n",
    "    ):\n",
    "        self.mutation_function = mutation_function\n",
    "        self.crossover_function = crossover_function\n",
    "\n",
    "        super().__init__(\n",
    "            distance_matrix=distance_matrix,\n",
    "            starting_idx=starting_idx,\n",
    "            repr=repr\n",
    "        )\n",
    "\n",
    "    def mutation(self, mut_prob):\n",
    "        middle_segment = self.repr[1:-1]\n",
    "        mutated_segment = self.mutation_function(middle_segment, mut_prob)\n",
    "\n",
    "        new_repr = [self.starting_idx] + mutated_segment + [self.starting_idx]\n",
    "\n",
    "        return TSPGASolution(\n",
    "            repr=new_repr\n",
    "            mutation_function = self.mutation_function\n",
    "            crossover_function= = self.crossover_function,\n",
    "            distance_matrix = self.distance_matrix,\n",
    "            starting_idx=self.starting_idx\n",
    "        )\n",
    "\n",
    "    def crossover(self, other_solution):\n",
    "        parent1_middle_segment = self.repr[1:-1]\n",
    "        parent2_middle_segment = other_solution.repr[1:-1]\n",
    "\n",
    "        offspring1_middle, offspring2_middle = self.crossover_function(parent1_middle_segment, parent2_middle_segment)\n",
    "\n",
    "        offspring1_repr = [self.starting_idx] + offspring1_middle + [self.starting_idx]\n",
    "        offspring2_repr = [self.starting_idx] + offspring2_middle + [self.starting_idx]\n",
    "\n",
    "        return TSPGASolution(\n",
    "            repr = offspring1_repr,\n",
    "            mutation_function = self.mutation_function\n",
    "            crossover_function= = self.crossover_function,\n",
    "            distance_matrix = self.distance_matrix,\n",
    "            starting_idx=self.starting_idx\n",
    "        ),\n",
    "        TSPGASolution(\n",
    "            repr = offspring2_repr,\n",
    "            mutation_function = self.mutation_function\n",
    "            crossover_function= = self.crossover_function,\n",
    "            distance_matrix = self.distance_matrix,\n",
    "            starting_idx=self.starting_idx\n",
    "        )\n",
    "        pass"
   ]
  },
  {
   "cell_type": "markdown",
   "metadata": {},
   "source": [
    "Let's apply the genetic algorithm to TSP using cycle crossover and inversion mutation. Here the probability of mutation should be relatively small because inversion mutation may be very destructive."
   ]
  },
  {
   "cell_type": "code",
   "execution_count": null,
   "metadata": {},
   "outputs": [],
   "source": [
    "# TODO: Apply GA to TSP with cycle crossover and inversion mutation"
   ]
  },
  {
   "cell_type": "markdown",
   "metadata": {},
   "source": [
    "And now let's use cycle crossover again, but this time we use swap mutation.\n",
    "Now we can set a higher probability of miutation because swap mutation is less destructive than inversion mutation."
   ]
  },
  {
   "cell_type": "code",
   "execution_count": null,
   "metadata": {},
   "outputs": [],
   "source": [
    "# TODO: Apply GA to TSP with cycle crossover and swap mutation"
   ]
  }
 ],
 "metadata": {
  "kernelspec": {
   "display_name": "base",
   "language": "python",
   "name": "python3"
  },
  "language_info": {
   "codemirror_mode": {
    "name": "ipython",
    "version": 3
   },
   "file_extension": ".py",
   "mimetype": "text/x-python",
   "name": "python",
   "nbconvert_exporter": "python",
   "pygments_lexer": "ipython3",
   "version": "3.12.4"
  }
 },
 "nbformat": 4,
 "nbformat_minor": 2
}
